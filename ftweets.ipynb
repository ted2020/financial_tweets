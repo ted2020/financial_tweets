{
 "cells": [
  {
   "cell_type": "code",
   "execution_count": 60,
   "metadata": {},
   "outputs": [
    {
     "name": "stderr",
     "output_type": "stream",
     "text": [
      "\n",
      "Attaching package: 'qdapRegex'\n",
      "\n",
      "The following object is masked from 'package:dplyr':\n",
      "\n",
      "    explain\n",
      "\n",
      "The following object is masked from 'package:ggplot2':\n",
      "\n",
      "    %+%\n",
      "\n",
      "The following object is masked from 'package:jsonlite':\n",
      "\n",
      "    validate\n",
      "\n"
     ]
    }
   ],
   "source": [
    "library(tidyverse)\n",
    "library(tidytext)\n",
    "library(tm)\n",
    "library(qdapRegex) # for rm_url\n",
    "library(wordcloud)"
   ]
  },
  {
   "cell_type": "code",
   "execution_count": 36,
   "metadata": {},
   "outputs": [],
   "source": []
  },
  {
   "cell_type": "code",
   "execution_count": 11,
   "metadata": {},
   "outputs": [
    {
     "name": "stderr",
     "output_type": "stream",
     "text": [
      "Warning message in scan(file = file, what = what, sep = sep, quote = quote, dec = dec, :\n",
      "\"EOF within quoted string\""
     ]
    },
    {
     "data": {
      "text/html": [
       "<table>\n",
       "<caption>A data.frame: 1 × 8</caption>\n",
       "<thead>\n",
       "\t<tr><th scope=col>id</th><th scope=col>text</th><th scope=col>timestamp</th><th scope=col>source</th><th scope=col>symbols</th><th scope=col>company_names</th><th scope=col>url</th><th scope=col>verified</th></tr>\n",
       "\t<tr><th scope=col>&lt;fct&gt;</th><th scope=col>&lt;fct&gt;</th><th scope=col>&lt;fct&gt;</th><th scope=col>&lt;fct&gt;</th><th scope=col>&lt;fct&gt;</th><th scope=col>&lt;fct&gt;</th><th scope=col>&lt;fct&gt;</th><th scope=col>&lt;fct&gt;</th></tr>\n",
       "</thead>\n",
       "<tbody>\n",
       "\t<tr><td>1019696670777503700</td><td>VIDEO: â€œI was in my office. I was minding my own business...â€ â€“David Solomon tells $GS interns how he learned he waâ€¦ https://t.co/QClAITywXV</td><td>Wed Jul 18 21:33:26 +0000 2018</td><td>GoldmanSachs</td><td>GS</td><td>The Goldman Sachs</td><td>https://twitter.com/i/web/status/1019696670777503745</td><td>True</td></tr>\n",
       "</tbody>\n",
       "</table>\n"
      ],
      "text/latex": [
       "A data.frame: 1 × 8\n",
       "\\begin{tabular}{r|llllllll}\n",
       " id & text & timestamp & source & symbols & company\\_names & url & verified\\\\\n",
       " <fct> & <fct> & <fct> & <fct> & <fct> & <fct> & <fct> & <fct>\\\\\n",
       "\\hline\n",
       "\t 1019696670777503700 & VIDEO: â€œI was in my office. I was minding my own business...â€ â€“David Solomon tells \\$GS interns how he learned he waâ€¦ https://t.co/QClAITywXV & Wed Jul 18 21:33:26 +0000 2018 & GoldmanSachs & GS & The Goldman Sachs & https://twitter.com/i/web/status/1019696670777503745 & True\\\\\n",
       "\\end{tabular}\n"
      ],
      "text/markdown": [
       "\n",
       "A data.frame: 1 × 8\n",
       "\n",
       "| id &lt;fct&gt; | text &lt;fct&gt; | timestamp &lt;fct&gt; | source &lt;fct&gt; | symbols &lt;fct&gt; | company_names &lt;fct&gt; | url &lt;fct&gt; | verified &lt;fct&gt; |\n",
       "|---|---|---|---|---|---|---|---|\n",
       "| 1019696670777503700 | VIDEO: â€œI was in my office. I was minding my own business...â€ â€“David Solomon tells $GS interns how he learned he waâ€¦ https://t.co/QClAITywXV | Wed Jul 18 21:33:26 +0000 2018 | GoldmanSachs | GS | The Goldman Sachs | https://twitter.com/i/web/status/1019696670777503745 | True |\n",
       "\n"
      ],
      "text/plain": [
       "  id                 \n",
       "1 1019696670777503700\n",
       "  text                                                                                                                                                \n",
       "1 VIDEO: â\\200œI was in my office. I was minding my own business...â\\200\\235 â\\200“David Solomon tells $GS interns how he learned he waâ\\200¦ https://t.co/QClAITywXV\n",
       "  timestamp                      source       symbols company_names    \n",
       "1 Wed Jul 18 21:33:26 +0000 2018 GoldmanSachs GS      The Goldman Sachs\n",
       "  url                                                  verified\n",
       "1 https://twitter.com/i/web/status/1019696670777503745 True    "
      ]
     },
     "metadata": {},
     "output_type": "display_data"
    }
   ],
   "source": [
    "stockerbot <- read.csv(\"stockerbot-export.csv\")\n",
    "head(stockerbot,1)"
   ]
  },
  {
   "cell_type": "code",
   "execution_count": 70,
   "metadata": {},
   "outputs": [
    {
     "data": {
      "text/html": [
       "<table>\n",
       "<caption>A data.frame: 10 × 2</caption>\n",
       "<thead>\n",
       "\t<tr><th scope=col>symbols</th><th scope=col>name</th></tr>\n",
       "\t<tr><th scope=col>&lt;fct&gt;</th><th scope=col>&lt;fct&gt;</th></tr>\n",
       "</thead>\n",
       "<tbody>\n",
       "\t<tr><td>NVAX</td><td>Novavax    </td></tr>\n",
       "\t<tr><td>SIRI</td><td>Sirius XM  </td></tr>\n",
       "\t<tr><td>QQQ </td><td>Invesco QQQ</td></tr>\n",
       "\t<tr><td>AAPL</td><td>Apple      </td></tr>\n",
       "\t<tr><td>MSFT</td><td>Microsoft  </td></tr>\n",
       "\t<tr><td>FB  </td><td>Facebook   </td></tr>\n",
       "\t<tr><td>MU  </td><td>Micron     </td></tr>\n",
       "\t<tr><td>NVDA</td><td>NVIDIA     </td></tr>\n",
       "\t<tr><td>INTC</td><td>Intel      </td></tr>\n",
       "\t<tr><td>CSX </td><td>CSX        </td></tr>\n",
       "</tbody>\n",
       "</table>\n"
      ],
      "text/latex": [
       "A data.frame: 10 × 2\n",
       "\\begin{tabular}{r|ll}\n",
       " symbols & name\\\\\n",
       " <fct> & <fct>\\\\\n",
       "\\hline\n",
       "\t NVAX & Novavax    \\\\\n",
       "\t SIRI & Sirius XM  \\\\\n",
       "\t QQQ  & Invesco QQQ\\\\\n",
       "\t AAPL & Apple      \\\\\n",
       "\t MSFT & Microsoft  \\\\\n",
       "\t FB   & Facebook   \\\\\n",
       "\t MU   & Micron     \\\\\n",
       "\t NVDA & NVIDIA     \\\\\n",
       "\t INTC & Intel      \\\\\n",
       "\t CSX  & CSX        \\\\\n",
       "\\end{tabular}\n"
      ],
      "text/markdown": [
       "\n",
       "A data.frame: 10 × 2\n",
       "\n",
       "| symbols &lt;fct&gt; | name &lt;fct&gt; |\n",
       "|---|---|\n",
       "| NVAX | Novavax     |\n",
       "| SIRI | Sirius XM   |\n",
       "| QQQ  | Invesco QQQ |\n",
       "| AAPL | Apple       |\n",
       "| MSFT | Microsoft   |\n",
       "| FB   | Facebook    |\n",
       "| MU   | Micron      |\n",
       "| NVDA | NVIDIA      |\n",
       "| INTC | Intel       |\n",
       "| CSX  | CSX         |\n",
       "\n"
      ],
      "text/plain": [
       "   symbols name       \n",
       "1  NVAX    Novavax    \n",
       "2  SIRI    Sirius XM  \n",
       "3  QQQ     Invesco QQQ\n",
       "4  AAPL    Apple      \n",
       "5  MSFT    Microsoft  \n",
       "6  FB      Facebook   \n",
       "7  MU      Micron     \n",
       "8  NVDA    NVIDIA     \n",
       "9  INTC    Intel      \n",
       "10 CSX     CSX        "
      ]
     },
     "metadata": {},
     "output_type": "display_data"
    }
   ],
   "source": [
    "stocks_cleaned <- read.csv(\"stocks_cleaned.csv\")\n",
    "names(stocks_cleaned) <- c(\"symbols\",\"name\")\n",
    "head(stocks_cleaned,10)"
   ]
  },
  {
   "cell_type": "code",
   "execution_count": 71,
   "metadata": {},
   "outputs": [
    {
     "name": "stderr",
     "output_type": "stream",
     "text": [
      "Warning message:\n",
      "\"Column `symbols` joining factors with different levels, coercing to character vector\""
     ]
    }
   ],
   "source": [
    "s2 <- left_join(stockerbot,stocks_cleaned, by=\"symbols\")"
   ]
  },
  {
   "cell_type": "code",
   "execution_count": 73,
   "metadata": {},
   "outputs": [
    {
     "data": {
      "text/html": [
       "<table>\n",
       "<caption>A data.frame: 1 × 9</caption>\n",
       "<thead>\n",
       "\t<tr><th scope=col>id</th><th scope=col>text</th><th scope=col>timestamp</th><th scope=col>source</th><th scope=col>symbols</th><th scope=col>company_names</th><th scope=col>url</th><th scope=col>verified</th><th scope=col>name</th></tr>\n",
       "\t<tr><th scope=col>&lt;fct&gt;</th><th scope=col>&lt;fct&gt;</th><th scope=col>&lt;fct&gt;</th><th scope=col>&lt;fct&gt;</th><th scope=col>&lt;chr&gt;</th><th scope=col>&lt;fct&gt;</th><th scope=col>&lt;fct&gt;</th><th scope=col>&lt;fct&gt;</th><th scope=col>&lt;fct&gt;</th></tr>\n",
       "</thead>\n",
       "<tbody>\n",
       "\t<tr><td>1019696670777503700</td><td>VIDEO: â€œI was in my office. I was minding my own business...â€ â€“David Solomon tells $GS interns how he learned he waâ€¦ https://t.co/QClAITywXV</td><td>Wed Jul 18 21:33:26 +0000 2018</td><td>GoldmanSachs</td><td>GS</td><td>The Goldman Sachs</td><td>https://twitter.com/i/web/status/1019696670777503745</td><td>True</td><td>The Goldman Sachs</td></tr>\n",
       "</tbody>\n",
       "</table>\n"
      ],
      "text/latex": [
       "A data.frame: 1 × 9\n",
       "\\begin{tabular}{r|lllllllll}\n",
       " id & text & timestamp & source & symbols & company\\_names & url & verified & name\\\\\n",
       " <fct> & <fct> & <fct> & <fct> & <chr> & <fct> & <fct> & <fct> & <fct>\\\\\n",
       "\\hline\n",
       "\t 1019696670777503700 & VIDEO: â€œI was in my office. I was minding my own business...â€ â€“David Solomon tells \\$GS interns how he learned he waâ€¦ https://t.co/QClAITywXV & Wed Jul 18 21:33:26 +0000 2018 & GoldmanSachs & GS & The Goldman Sachs & https://twitter.com/i/web/status/1019696670777503745 & True & The Goldman Sachs\\\\\n",
       "\\end{tabular}\n"
      ],
      "text/markdown": [
       "\n",
       "A data.frame: 1 × 9\n",
       "\n",
       "| id &lt;fct&gt; | text &lt;fct&gt; | timestamp &lt;fct&gt; | source &lt;fct&gt; | symbols &lt;chr&gt; | company_names &lt;fct&gt; | url &lt;fct&gt; | verified &lt;fct&gt; | name &lt;fct&gt; |\n",
       "|---|---|---|---|---|---|---|---|---|\n",
       "| 1019696670777503700 | VIDEO: â€œI was in my office. I was minding my own business...â€ â€“David Solomon tells $GS interns how he learned he waâ€¦ https://t.co/QClAITywXV | Wed Jul 18 21:33:26 +0000 2018 | GoldmanSachs | GS | The Goldman Sachs | https://twitter.com/i/web/status/1019696670777503745 | True | The Goldman Sachs |\n",
       "\n"
      ],
      "text/plain": [
       "  id                 \n",
       "1 1019696670777503700\n",
       "  text                                                                                                                                                \n",
       "1 VIDEO: â\\200œI was in my office. I was minding my own business...â\\200\\235 â\\200“David Solomon tells $GS interns how he learned he waâ\\200¦ https://t.co/QClAITywXV\n",
       "  timestamp                      source       symbols company_names    \n",
       "1 Wed Jul 18 21:33:26 +0000 2018 GoldmanSachs GS      The Goldman Sachs\n",
       "  url                                                  verified\n",
       "1 https://twitter.com/i/web/status/1019696670777503745 True    \n",
       "  name             \n",
       "1 The Goldman Sachs"
      ]
     },
     "metadata": {},
     "output_type": "display_data"
    }
   ],
   "source": [
    "head(s2,1)"
   ]
  },
  {
   "cell_type": "code",
   "execution_count": 40,
   "metadata": {},
   "outputs": [
    {
     "data": {
      "text/html": [
       "<ol class=list-inline>\n",
       "\t<li>'video was office was minding own business david solomon tells interns how learned qclaitywxv'</li>\n",
       "\t<li>'the price lumber down se hitting its ytd highs the macy turnaround still happening xnksv'</li>\n",
       "\t<li>'who says the american dream dead crgx'</li>\n",
       "\t<li>'barry silbert extremely optimistic bitcoin but predicts that new crypto entrants are going zero mgmvo czgy'</li>\n",
       "\t<li>'how satellites avoid attacks and space junk while circling the earth ahziv lqp paid oracle kacpqzwidj'</li>\n",
       "\t<li>'realmoney david butler favorite fang isn realmoneysod alphabet but facebook mczapsfjoi'</li>\n",
       "</ol>\n"
      ],
      "text/latex": [
       "\\begin{enumerate*}\n",
       "\\item 'video was office was minding own business david solomon tells interns how learned qclaitywxv'\n",
       "\\item 'the price lumber down se hitting its ytd highs the macy turnaround still happening xnksv'\n",
       "\\item 'who says the american dream dead crgx'\n",
       "\\item 'barry silbert extremely optimistic bitcoin but predicts that new crypto entrants are going zero mgmvo czgy'\n",
       "\\item 'how satellites avoid attacks and space junk while circling the earth ahziv lqp paid oracle kacpqzwidj'\n",
       "\\item 'realmoney david butler favorite fang isn realmoneysod alphabet but facebook mczapsfjoi'\n",
       "\\end{enumerate*}\n"
      ],
      "text/markdown": [
       "1. 'video was office was minding own business david solomon tells interns how learned qclaitywxv'\n",
       "2. 'the price lumber down se hitting its ytd highs the macy turnaround still happening xnksv'\n",
       "3. 'who says the american dream dead crgx'\n",
       "4. 'barry silbert extremely optimistic bitcoin but predicts that new crypto entrants are going zero mgmvo czgy'\n",
       "5. 'how satellites avoid attacks and space junk while circling the earth ahziv lqp paid oracle kacpqzwidj'\n",
       "6. 'realmoney david butler favorite fang isn realmoneysod alphabet but facebook mczapsfjoi'\n",
       "\n",
       "\n"
      ],
      "text/plain": [
       "[1] \"video was office was minding own business david solomon tells interns how learned qclaitywxv\"              \n",
       "[2] \"the price lumber down se hitting its ytd highs the macy turnaround still happening xnksv\"                  \n",
       "[3] \"who says the american dream dead crgx\"                                                                     \n",
       "[4] \"barry silbert extremely optimistic bitcoin but predicts that new crypto entrants are going zero mgmvo czgy\"\n",
       "[5] \"how satellites avoid attacks and space junk while circling the earth ahziv lqp paid oracle kacpqzwidj\"     \n",
       "[6] \"realmoney david butler favorite fang isn realmoneysod alphabet but facebook mczapsfjoi\"                    "
      ]
     },
     "metadata": {},
     "output_type": "display_data"
    }
   ],
   "source": [
    "ftweets <- (stockerbot$text)\n",
    "ftweets <- tolower(ftweets)\n",
    "ftweets <- gsub(\"[^[A-Za-z]\",\" \", ftweets)\n",
    "ftweets <- gsub(\"\\\\b\\\\w{1,2}\\\\b\", \"\", ftweets)\n",
    "ftweets <- gsub(\"https\",\"\", ftweets)\n",
    "ftweets <- gsub(\"inc\",\"\", ftweets)\n",
    "ftweets <- gsub(\"amp\",\"\", ftweets)\n",
    "ftweets <- gsub(\"stock\",\"\", ftweets)\n",
    "ftweets <- gsub(\"eps\",\"\", ftweets)\n",
    "\n",
    "ftweets <- str_squish(ftweets)\n",
    "head(ftweets)"
   ]
  },
  {
   "cell_type": "code",
   "execution_count": 41,
   "metadata": {},
   "outputs": [],
   "source": [
    "data(\"stop_words\")"
   ]
  },
  {
   "cell_type": "code",
   "execution_count": 42,
   "metadata": {},
   "outputs": [
    {
     "data": {
      "text/html": [
       "<table>\n",
       "<caption>A tibble: 6 × 2</caption>\n",
       "<thead>\n",
       "\t<tr><th scope=col>word</th><th scope=col>lexicon</th></tr>\n",
       "\t<tr><th scope=col>&lt;chr&gt;</th><th scope=col>&lt;chr&gt;</th></tr>\n",
       "</thead>\n",
       "<tbody>\n",
       "\t<tr><td>a        </td><td>SMART</td></tr>\n",
       "\t<tr><td>a's      </td><td>SMART</td></tr>\n",
       "\t<tr><td>able     </td><td>SMART</td></tr>\n",
       "\t<tr><td>about    </td><td>SMART</td></tr>\n",
       "\t<tr><td>above    </td><td>SMART</td></tr>\n",
       "\t<tr><td>according</td><td>SMART</td></tr>\n",
       "</tbody>\n",
       "</table>\n"
      ],
      "text/latex": [
       "A tibble: 6 × 2\n",
       "\\begin{tabular}{r|ll}\n",
       " word & lexicon\\\\\n",
       " <chr> & <chr>\\\\\n",
       "\\hline\n",
       "\t a         & SMART\\\\\n",
       "\t a's       & SMART\\\\\n",
       "\t able      & SMART\\\\\n",
       "\t about     & SMART\\\\\n",
       "\t above     & SMART\\\\\n",
       "\t according & SMART\\\\\n",
       "\\end{tabular}\n"
      ],
      "text/markdown": [
       "\n",
       "A tibble: 6 × 2\n",
       "\n",
       "| word &lt;chr&gt; | lexicon &lt;chr&gt; |\n",
       "|---|---|\n",
       "| a         | SMART |\n",
       "| a's       | SMART |\n",
       "| able      | SMART |\n",
       "| about     | SMART |\n",
       "| above     | SMART |\n",
       "| according | SMART |\n",
       "\n"
      ],
      "text/plain": [
       "  word      lexicon\n",
       "1 a         SMART  \n",
       "2 a's       SMART  \n",
       "3 able      SMART  \n",
       "4 about     SMART  \n",
       "5 above     SMART  \n",
       "6 according SMART  "
      ]
     },
     "metadata": {},
     "output_type": "display_data"
    },
    {
     "data": {
      "text/html": [
       "<ol class=list-inline>\n",
       "\t<li>572</li>\n",
       "\t<li>573</li>\n",
       "\t<li>574</li>\n",
       "\t<li>575</li>\n",
       "\t<li>576</li>\n",
       "\t<li>577</li>\n",
       "\t<li>578</li>\n",
       "\t<li>579</li>\n",
       "\t<li>580</li>\n",
       "\t<li>581</li>\n",
       "</ol>\n"
      ],
      "text/latex": [
       "\\begin{enumerate*}\n",
       "\\item 572\n",
       "\\item 573\n",
       "\\item 574\n",
       "\\item 575\n",
       "\\item 576\n",
       "\\item 577\n",
       "\\item 578\n",
       "\\item 579\n",
       "\\item 580\n",
       "\\item 581\n",
       "\\end{enumerate*}\n"
      ],
      "text/markdown": [
       "1. 572\n",
       "2. 573\n",
       "3. 574\n",
       "4. 575\n",
       "5. 576\n",
       "6. 577\n",
       "7. 578\n",
       "8. 579\n",
       "9. 580\n",
       "10. 581\n",
       "\n",
       "\n"
      ],
      "text/plain": [
       " [1] 572 573 574 575 576 577 578 579 580 581"
      ]
     },
     "metadata": {},
     "output_type": "display_data"
    }
   ],
   "source": [
    "head(stop_words)\n",
    "which(stop_words$lexicon == 'snowball')[1:10]"
   ]
  },
  {
   "cell_type": "code",
   "execution_count": 43,
   "metadata": {},
   "outputs": [
    {
     "data": {
      "text/html": [
       "'c(\"i\", \"me\", \"my\", \"myself\", \"we\", \"our\", \"ours\", \"ourselves\", \"you\", \"your\", \"yours\", \"yourself\", \"yourselves\", \"he\", \"him\", \"his\", \"himself\", \"she\", \"her\", \"hers\", \"herself\", \"it\", \"its\", \"itself\", \"they\", \"them\", \"their\", \"theirs\", \"themselves\", \"what\", \"which\", \"who\", \"whom\", \"this\", \"that\", \"these\", \"those\", \"am\", \"is\", \"are\", \"was\", \"were\", \"be\", \"been\", \"being\", \"have\", \"has\", \"had\", \"having\", \"do\", \"does\", \"did\", \"doing\", \"would\", \"should\", \"could\", \"ought\", \"i\\'m\", \"you\\'re\", \"he\\'s\", \"she\\'s\", \\n\"it\\'s\", \"we\\'re\", \"they\\'re\", \"i\\'ve\", \"you\\'ve\", \"we\\'ve\", \"they\\'ve\", \"i\\'d\", \"you\\'d\", \"he\\'d\", \"she\\'d\", \"we\\'d\", \"they\\'d\", \"i\\'ll\", \"you\\'ll\", \"he\\'ll\", \"she\\'ll\", \"we\\'ll\", \"they\\'ll\", \"isn\\'t\", \"aren\\'t\", \"wasn\\'t\", \"weren\\'t\", \"hasn\\'t\", \"haven\\'t\", \"hadn\\'t\", \"doesn\\'t\", \"don\\'t\", \"didn\\'t\", \"won\\'t\", \"wouldn\\'t\", \"shan\\'t\", \"shouldn\\'t\", \"can\\'t\", \"cannot\", \"couldn\\'t\", \"mustn\\'t\", \"let\\'s\", \"that\\'s\", \"who\\'s\", \"what\\'s\", \"here\\'s\", \"there\\'s\", \"when\\'s\", \"where\\'s\", \"why\\'s\", \"how\\'s\", \"a\", \"an\", \"the\", \"and\", \"but\", \"if\", \"or\", \\n\"because\", \"as\", \"until\", \"while\", \"of\", \"at\", \"by\", \"for\", \"with\", \"about\", \"against\", \"between\", \"into\", \"through\", \"during\", \"before\", \"after\", \"above\", \"below\", \"to\", \"from\", \"up\", \"down\", \"in\", \"out\", \"on\", \"off\", \"over\", \"under\", \"again\", \"further\", \"then\", \"once\", \"here\", \"there\", \"when\", \"where\", \"why\", \"how\", \"all\", \"any\", \"both\", \"each\", \"few\", \"more\", \"most\", \"other\", \"some\", \"such\", \"no\", \"nor\", \"not\", \"only\", \"own\", \"same\", \"so\", \"than\", \"too\", \"very\")'"
      ],
      "text/latex": [
       "'c(\"i\", \"me\", \"my\", \"myself\", \"we\", \"our\", \"ours\", \"ourselves\", \"you\", \"your\", \"yours\", \"yourself\", \"yourselves\", \"he\", \"him\", \"his\", \"himself\", \"she\", \"her\", \"hers\", \"herself\", \"it\", \"its\", \"itself\", \"they\", \"them\", \"their\", \"theirs\", \"themselves\", \"what\", \"which\", \"who\", \"whom\", \"this\", \"that\", \"these\", \"those\", \"am\", \"is\", \"are\", \"was\", \"were\", \"be\", \"been\", \"being\", \"have\", \"has\", \"had\", \"having\", \"do\", \"does\", \"did\", \"doing\", \"would\", \"should\", \"could\", \"ought\", \"i\\textbackslash{}'m\", \"you\\textbackslash{}'re\", \"he\\textbackslash{}'s\", \"she\\textbackslash{}'s\", \\textbackslash{}n\"it\\textbackslash{}'s\", \"we\\textbackslash{}'re\", \"they\\textbackslash{}'re\", \"i\\textbackslash{}'ve\", \"you\\textbackslash{}'ve\", \"we\\textbackslash{}'ve\", \"they\\textbackslash{}'ve\", \"i\\textbackslash{}'d\", \"you\\textbackslash{}'d\", \"he\\textbackslash{}'d\", \"she\\textbackslash{}'d\", \"we\\textbackslash{}'d\", \"they\\textbackslash{}'d\", \"i\\textbackslash{}'ll\", \"you\\textbackslash{}'ll\", \"he\\textbackslash{}'ll\", \"she\\textbackslash{}'ll\", \"we\\textbackslash{}'ll\", \"they\\textbackslash{}'ll\", \"isn\\textbackslash{}'t\", \"aren\\textbackslash{}'t\", \"wasn\\textbackslash{}'t\", \"weren\\textbackslash{}'t\", \"hasn\\textbackslash{}'t\", \"haven\\textbackslash{}'t\", \"hadn\\textbackslash{}'t\", \"doesn\\textbackslash{}'t\", \"don\\textbackslash{}'t\", \"didn\\textbackslash{}'t\", \"won\\textbackslash{}'t\", \"wouldn\\textbackslash{}'t\", \"shan\\textbackslash{}'t\", \"shouldn\\textbackslash{}'t\", \"can\\textbackslash{}'t\", \"cannot\", \"couldn\\textbackslash{}'t\", \"mustn\\textbackslash{}'t\", \"let\\textbackslash{}'s\", \"that\\textbackslash{}'s\", \"who\\textbackslash{}'s\", \"what\\textbackslash{}'s\", \"here\\textbackslash{}'s\", \"there\\textbackslash{}'s\", \"when\\textbackslash{}'s\", \"where\\textbackslash{}'s\", \"why\\textbackslash{}'s\", \"how\\textbackslash{}'s\", \"a\", \"an\", \"the\", \"and\", \"but\", \"if\", \"or\", \\textbackslash{}n\"because\", \"as\", \"until\", \"while\", \"of\", \"at\", \"by\", \"for\", \"with\", \"about\", \"against\", \"between\", \"into\", \"through\", \"during\", \"before\", \"after\", \"above\", \"below\", \"to\", \"from\", \"up\", \"down\", \"in\", \"out\", \"on\", \"off\", \"over\", \"under\", \"again\", \"further\", \"then\", \"once\", \"here\", \"there\", \"when\", \"where\", \"why\", \"how\", \"all\", \"any\", \"both\", \"each\", \"few\", \"more\", \"most\", \"other\", \"some\", \"such\", \"no\", \"nor\", \"not\", \"only\", \"own\", \"same\", \"so\", \"than\", \"too\", \"very\")'"
      ],
      "text/markdown": [
       "'c(\"i\", \"me\", \"my\", \"myself\", \"we\", \"our\", \"ours\", \"ourselves\", \"you\", \"your\", \"yours\", \"yourself\", \"yourselves\", \"he\", \"him\", \"his\", \"himself\", \"she\", \"her\", \"hers\", \"herself\", \"it\", \"its\", \"itself\", \"they\", \"them\", \"their\", \"theirs\", \"themselves\", \"what\", \"which\", \"who\", \"whom\", \"this\", \"that\", \"these\", \"those\", \"am\", \"is\", \"are\", \"was\", \"were\", \"be\", \"been\", \"being\", \"have\", \"has\", \"had\", \"having\", \"do\", \"does\", \"did\", \"doing\", \"would\", \"should\", \"could\", \"ought\", \"i\\'m\", \"you\\'re\", \"he\\'s\", \"she\\'s\", \\n\"it\\'s\", \"we\\'re\", \"they\\'re\", \"i\\'ve\", \"you\\'ve\", \"we\\'ve\", \"they\\'ve\", \"i\\'d\", \"you\\'d\", \"he\\'d\", \"she\\'d\", \"we\\'d\", \"they\\'d\", \"i\\'ll\", \"you\\'ll\", \"he\\'ll\", \"she\\'ll\", \"we\\'ll\", \"they\\'ll\", \"isn\\'t\", \"aren\\'t\", \"wasn\\'t\", \"weren\\'t\", \"hasn\\'t\", \"haven\\'t\", \"hadn\\'t\", \"doesn\\'t\", \"don\\'t\", \"didn\\'t\", \"won\\'t\", \"wouldn\\'t\", \"shan\\'t\", \"shouldn\\'t\", \"can\\'t\", \"cannot\", \"couldn\\'t\", \"mustn\\'t\", \"let\\'s\", \"that\\'s\", \"who\\'s\", \"what\\'s\", \"here\\'s\", \"there\\'s\", \"when\\'s\", \"where\\'s\", \"why\\'s\", \"how\\'s\", \"a\", \"an\", \"the\", \"and\", \"but\", \"if\", \"or\", \\n\"because\", \"as\", \"until\", \"while\", \"of\", \"at\", \"by\", \"for\", \"with\", \"about\", \"against\", \"between\", \"into\", \"through\", \"during\", \"before\", \"after\", \"above\", \"below\", \"to\", \"from\", \"up\", \"down\", \"in\", \"out\", \"on\", \"off\", \"over\", \"under\", \"again\", \"further\", \"then\", \"once\", \"here\", \"there\", \"when\", \"where\", \"why\", \"how\", \"all\", \"any\", \"both\", \"each\", \"few\", \"more\", \"most\", \"other\", \"some\", \"such\", \"no\", \"nor\", \"not\", \"only\", \"own\", \"same\", \"so\", \"than\", \"too\", \"very\")'"
      ],
      "text/plain": [
       "[1] \"c(\\\"i\\\", \\\"me\\\", \\\"my\\\", \\\"myself\\\", \\\"we\\\", \\\"our\\\", \\\"ours\\\", \\\"ourselves\\\", \\\"you\\\", \\\"your\\\", \\\"yours\\\", \\\"yourself\\\", \\\"yourselves\\\", \\\"he\\\", \\\"him\\\", \\\"his\\\", \\\"himself\\\", \\\"she\\\", \\\"her\\\", \\\"hers\\\", \\\"herself\\\", \\\"it\\\", \\\"its\\\", \\\"itself\\\", \\\"they\\\", \\\"them\\\", \\\"their\\\", \\\"theirs\\\", \\\"themselves\\\", \\\"what\\\", \\\"which\\\", \\\"who\\\", \\\"whom\\\", \\\"this\\\", \\\"that\\\", \\\"these\\\", \\\"those\\\", \\\"am\\\", \\\"is\\\", \\\"are\\\", \\\"was\\\", \\\"were\\\", \\\"be\\\", \\\"been\\\", \\\"being\\\", \\\"have\\\", \\\"has\\\", \\\"had\\\", \\\"having\\\", \\\"do\\\", \\\"does\\\", \\\"did\\\", \\\"doing\\\", \\\"would\\\", \\\"should\\\", \\\"could\\\", \\\"ought\\\", \\\"i'm\\\", \\\"you're\\\", \\\"he's\\\", \\\"she's\\\", \\n\\\"it's\\\", \\\"we're\\\", \\\"they're\\\", \\\"i've\\\", \\\"you've\\\", \\\"we've\\\", \\\"they've\\\", \\\"i'd\\\", \\\"you'd\\\", \\\"he'd\\\", \\\"she'd\\\", \\\"we'd\\\", \\\"they'd\\\", \\\"i'll\\\", \\\"you'll\\\", \\\"he'll\\\", \\\"she'll\\\", \\\"we'll\\\", \\\"they'll\\\", \\\"isn't\\\", \\\"aren't\\\", \\\"wasn't\\\", \\\"weren't\\\", \\\"hasn't\\\", \\\"haven't\\\", \\\"hadn't\\\", \\\"doesn't\\\", \\\"don't\\\", \\\"didn't\\\", \\\"won't\\\", \\\"wouldn't\\\", \\\"shan't\\\", \\\"shouldn't\\\", \\\"can't\\\", \\\"cannot\\\", \\\"couldn't\\\", \\\"mustn't\\\", \\\"let's\\\", \\\"that's\\\", \\\"who's\\\", \\\"what's\\\", \\\"here's\\\", \\\"there's\\\", \\\"when's\\\", \\\"where's\\\", \\\"why's\\\", \\\"how's\\\", \\\"a\\\", \\\"an\\\", \\\"the\\\", \\\"and\\\", \\\"but\\\", \\\"if\\\", \\\"or\\\", \\n\\\"because\\\", \\\"as\\\", \\\"until\\\", \\\"while\\\", \\\"of\\\", \\\"at\\\", \\\"by\\\", \\\"for\\\", \\\"with\\\", \\\"about\\\", \\\"against\\\", \\\"between\\\", \\\"into\\\", \\\"through\\\", \\\"during\\\", \\\"before\\\", \\\"after\\\", \\\"above\\\", \\\"below\\\", \\\"to\\\", \\\"from\\\", \\\"up\\\", \\\"down\\\", \\\"in\\\", \\\"out\\\", \\\"on\\\", \\\"off\\\", \\\"over\\\", \\\"under\\\", \\\"again\\\", \\\"further\\\", \\\"then\\\", \\\"once\\\", \\\"here\\\", \\\"there\\\", \\\"when\\\", \\\"where\\\", \\\"why\\\", \\\"how\\\", \\\"all\\\", \\\"any\\\", \\\"both\\\", \\\"each\\\", \\\"few\\\", \\\"more\\\", \\\"most\\\", \\\"other\\\", \\\"some\\\", \\\"such\\\", \\\"no\\\", \\\"nor\\\", \\\"not\\\", \\\"only\\\", \\\"own\\\", \\\"same\\\", \\\"so\\\", \\\"than\\\", \\\"too\\\", \\\"very\\\")\""
      ]
     },
     "metadata": {},
     "output_type": "display_data"
    }
   ],
   "source": [
    "stop_words_for_removal <- as.vector((stop_words %>% filter(lexicon==\"snowball\"))[1])\n",
    "as.character(stop_words_for_removal)"
   ]
  },
  {
   "cell_type": "code",
   "execution_count": 44,
   "metadata": {},
   "outputs": [
    {
     "name": "stdout",
     "output_type": "stream",
     "text": [
      "<<PlainTextDocument>>\n",
      "Metadata:  7\n",
      "Content:  chars: 60\n",
      "\n",
      "hedge fund manager marc larsy says bitcoin possible upe owqt\n"
     ]
    }
   ],
   "source": [
    "ftweets_tm <- VCorpus(VectorSource(ftweets))\n",
    "ftweets_tm <- tm_map(ftweets_tm,removeWords,stop_words_for_removal$word)\n",
    "ftweets_tm <- tm_map(ftweets_tm,stripWhitespace)\n",
    "ftweets_tm <- tm_map(ftweets_tm,removePunctuation)\n",
    "inspect(ftweets_tm[[10]])\n"
   ]
  },
  {
   "cell_type": "code",
   "execution_count": 45,
   "metadata": {},
   "outputs": [],
   "source": [
    "NGramTokenizer <- function(x) {\n",
    "  unlist(lapply(ngrams(words(x), GRAMS), paste, collapse = \" \"),\n",
    "  use.names = FALSE)\n",
    "}"
   ]
  },
  {
   "cell_type": "code",
   "execution_count": 46,
   "metadata": {},
   "outputs": [
    {
     "data": {
      "text/html": [
       "<ol class=list-inline>\n",
       "\t<li>'video'</li>\n",
       "\t<li>'office'</li>\n",
       "\t<li>'minding'</li>\n",
       "\t<li>'business'</li>\n",
       "\t<li>'david'</li>\n",
       "\t<li>'solomon'</li>\n",
       "\t<li>'tells'</li>\n",
       "\t<li>'interns'</li>\n",
       "\t<li>'learned'</li>\n",
       "\t<li>'qclaitywxv'</li>\n",
       "</ol>\n"
      ],
      "text/latex": [
       "\\begin{enumerate*}\n",
       "\\item 'video'\n",
       "\\item 'office'\n",
       "\\item 'minding'\n",
       "\\item 'business'\n",
       "\\item 'david'\n",
       "\\item 'solomon'\n",
       "\\item 'tells'\n",
       "\\item 'interns'\n",
       "\\item 'learned'\n",
       "\\item 'qclaitywxv'\n",
       "\\end{enumerate*}\n"
      ],
      "text/markdown": [
       "1. 'video'\n",
       "2. 'office'\n",
       "3. 'minding'\n",
       "4. 'business'\n",
       "5. 'david'\n",
       "6. 'solomon'\n",
       "7. 'tells'\n",
       "8. 'interns'\n",
       "9. 'learned'\n",
       "10. 'qclaitywxv'\n",
       "\n",
       "\n"
      ],
      "text/plain": [
       " [1] \"video\"      \"office\"     \"minding\"    \"business\"   \"david\"     \n",
       " [6] \"solomon\"    \"tells\"      \"interns\"    \"learned\"    \"qclaitywxv\""
      ]
     },
     "metadata": {},
     "output_type": "display_data"
    }
   ],
   "source": [
    "GRAMS <- 1\n",
    "NGramTokenizer(ftweets_tm[[1]])"
   ]
  },
  {
   "cell_type": "code",
   "execution_count": 47,
   "metadata": {},
   "outputs": [
    {
     "data": {
      "text/html": [
       "<ol class=list-inline>\n",
       "\t<li>'video office'</li>\n",
       "\t<li>'office minding'</li>\n",
       "\t<li>'minding business'</li>\n",
       "\t<li>'business david'</li>\n",
       "\t<li>'david solomon'</li>\n",
       "\t<li>'solomon tells'</li>\n",
       "\t<li>'tells interns'</li>\n",
       "\t<li>'interns learned'</li>\n",
       "\t<li>'learned qclaitywxv'</li>\n",
       "</ol>\n"
      ],
      "text/latex": [
       "\\begin{enumerate*}\n",
       "\\item 'video office'\n",
       "\\item 'office minding'\n",
       "\\item 'minding business'\n",
       "\\item 'business david'\n",
       "\\item 'david solomon'\n",
       "\\item 'solomon tells'\n",
       "\\item 'tells interns'\n",
       "\\item 'interns learned'\n",
       "\\item 'learned qclaitywxv'\n",
       "\\end{enumerate*}\n"
      ],
      "text/markdown": [
       "1. 'video office'\n",
       "2. 'office minding'\n",
       "3. 'minding business'\n",
       "4. 'business david'\n",
       "5. 'david solomon'\n",
       "6. 'solomon tells'\n",
       "7. 'tells interns'\n",
       "8. 'interns learned'\n",
       "9. 'learned qclaitywxv'\n",
       "\n",
       "\n"
      ],
      "text/plain": [
       "[1] \"video office\"       \"office minding\"     \"minding business\"  \n",
       "[4] \"business david\"     \"david solomon\"      \"solomon tells\"     \n",
       "[7] \"tells interns\"      \"interns learned\"    \"learned qclaitywxv\""
      ]
     },
     "metadata": {},
     "output_type": "display_data"
    }
   ],
   "source": [
    "GRAMS <- 2\n",
    "NGramTokenizer(ftweets_tm[[1]])"
   ]
  },
  {
   "cell_type": "code",
   "execution_count": 48,
   "metadata": {},
   "outputs": [],
   "source": [
    "GRAMS <- 1\n",
    "ftweets_dtm_1 <- DocumentTermMatrix(ftweets_tm,control = list(tokenize=NGramTokenizer))\n",
    "ftweets_dtm_1 <- removeSparseTerms(ftweets_dtm_1,0.99)"
   ]
  },
  {
   "cell_type": "code",
   "execution_count": 49,
   "metadata": {},
   "outputs": [
    {
     "data": {
      "text/html": [
       "<ol class=list-inline>\n",
       "\t<li>'aapl'</li>\n",
       "\t<li>'alert'</li>\n",
       "\t<li>'alerts'</li>\n",
       "\t<li>'amzn'</li>\n",
       "\t<li>'analysis'</li>\n",
       "\t<li>'analysts'</li>\n",
       "</ol>\n"
      ],
      "text/latex": [
       "\\begin{enumerate*}\n",
       "\\item 'aapl'\n",
       "\\item 'alert'\n",
       "\\item 'alerts'\n",
       "\\item 'amzn'\n",
       "\\item 'analysis'\n",
       "\\item 'analysts'\n",
       "\\end{enumerate*}\n"
      ],
      "text/markdown": [
       "1. 'aapl'\n",
       "2. 'alert'\n",
       "3. 'alerts'\n",
       "4. 'amzn'\n",
       "5. 'analysis'\n",
       "6. 'analysts'\n",
       "\n",
       "\n"
      ],
      "text/plain": [
       "[1] \"aapl\"     \"alert\"    \"alerts\"   \"amzn\"     \"analysis\" \"analysts\""
      ]
     },
     "metadata": {},
     "output_type": "display_data"
    },
    {
     "data": {
      "text/html": [
       "<ol class=list-inline>\n",
       "\t<li>'via'</li>\n",
       "\t<li>'volume'</li>\n",
       "\t<li>'watch'</li>\n",
       "\t<li>'week'</li>\n",
       "\t<li>'will'</li>\n",
       "\t<li>'zacks'</li>\n",
       "</ol>\n"
      ],
      "text/latex": [
       "\\begin{enumerate*}\n",
       "\\item 'via'\n",
       "\\item 'volume'\n",
       "\\item 'watch'\n",
       "\\item 'week'\n",
       "\\item 'will'\n",
       "\\item 'zacks'\n",
       "\\end{enumerate*}\n"
      ],
      "text/markdown": [
       "1. 'via'\n",
       "2. 'volume'\n",
       "3. 'watch'\n",
       "4. 'week'\n",
       "5. 'will'\n",
       "6. 'zacks'\n",
       "\n",
       "\n"
      ],
      "text/plain": [
       "[1] \"via\"    \"volume\" \"watch\"  \"week\"   \"will\"   \"zacks\" "
      ]
     },
     "metadata": {},
     "output_type": "display_data"
    }
   ],
   "source": [
    "head(ftweets_dtm_1$dimnames$Terms)\n",
    "tail(ftweets_dtm_1$dimnames$Terms)"
   ]
  },
  {
   "cell_type": "code",
   "execution_count": 50,
   "metadata": {},
   "outputs": [],
   "source": [
    "GRAMS <- 2\n",
    "ftweets_dtm_2 <- DocumentTermMatrix(ftweets_tm,control = list(tokenize=NGramTokenizer))\n",
    "ftweets_dtm_2 <- removeSparseTerms(ftweets_dtm_2,0.997)"
   ]
  },
  {
   "cell_type": "code",
   "execution_count": 51,
   "metadata": {},
   "outputs": [
    {
     "data": {
      "text/html": [
       "<ol class=list-inline>\n",
       "\t<li>'accepting new'</li>\n",
       "\t<li>'access premium'</li>\n",
       "\t<li>'advance auto'</li>\n",
       "\t<li>'airdrop register'</li>\n",
       "\t<li>'akamai technologies'</li>\n",
       "\t<li>'alerts app'</li>\n",
       "</ol>\n"
      ],
      "text/latex": [
       "\\begin{enumerate*}\n",
       "\\item 'accepting new'\n",
       "\\item 'access premium'\n",
       "\\item 'advance auto'\n",
       "\\item 'airdrop register'\n",
       "\\item 'akamai technologies'\n",
       "\\item 'alerts app'\n",
       "\\end{enumerate*}\n"
      ],
      "text/markdown": [
       "1. 'accepting new'\n",
       "2. 'access premium'\n",
       "3. 'advance auto'\n",
       "4. 'airdrop register'\n",
       "5. 'akamai technologies'\n",
       "6. 'alerts app'\n",
       "\n",
       "\n"
      ],
      "text/plain": [
       "[1] \"accepting new\"       \"access premium\"      \"advance auto\"       \n",
       "[4] \"airdrop register\"    \"akamai technologies\" \"alerts app\"         "
      ]
     },
     "metadata": {},
     "output_type": "display_data"
    },
    {
     "data": {
      "text/html": [
       "<ol class=list-inline>\n",
       "\t<li>'wells fargo'</li>\n",
       "\t<li>'will announce'</li>\n",
       "\t<li>'will post'</li>\n",
       "\t<li>'zacks analysts'</li>\n",
       "\t<li>'zacks brokerages'</li>\n",
       "\t<li>'zacks investment'</li>\n",
       "</ol>\n"
      ],
      "text/latex": [
       "\\begin{enumerate*}\n",
       "\\item 'wells fargo'\n",
       "\\item 'will announce'\n",
       "\\item 'will post'\n",
       "\\item 'zacks analysts'\n",
       "\\item 'zacks brokerages'\n",
       "\\item 'zacks investment'\n",
       "\\end{enumerate*}\n"
      ],
      "text/markdown": [
       "1. 'wells fargo'\n",
       "2. 'will announce'\n",
       "3. 'will post'\n",
       "4. 'zacks analysts'\n",
       "5. 'zacks brokerages'\n",
       "6. 'zacks investment'\n",
       "\n",
       "\n"
      ],
      "text/plain": [
       "[1] \"wells fargo\"      \"will announce\"    \"will post\"        \"zacks analysts\"  \n",
       "[5] \"zacks brokerages\" \"zacks investment\""
      ]
     },
     "metadata": {},
     "output_type": "display_data"
    }
   ],
   "source": [
    "head(ftweets_dtm_2$dimnames$Terms)\n",
    "tail(ftweets_dtm_2$dimnames$Terms)"
   ]
  },
  {
   "cell_type": "code",
   "execution_count": 52,
   "metadata": {},
   "outputs": [
    {
     "data": {
      "text/html": [
       "<dl class=dl-horizontal>\n",
       "\t<dt>corporation</dt>\n",
       "\t\t<dd>3753</dd>\n",
       "\t<dt>analysts</dt>\n",
       "\t\t<dd>2123</dd>\n",
       "\t<dt>earnings</dt>\n",
       "\t\t<dd>2035</dd>\n",
       "\t<dt>price</dt>\n",
       "\t\t<dd>1903</dd>\n",
       "\t<dt>company</dt>\n",
       "\t\t<dd>1835</dd>\n",
       "\t<dt>group</dt>\n",
       "\t\t<dd>1664</dd>\n",
       "\t<dt>binance</dt>\n",
       "\t\t<dd>1561</dd>\n",
       "\t<dt>energy</dt>\n",
       "\t\t<dd>1452</dd>\n",
       "\t<dt>expected</dt>\n",
       "\t\t<dd>1292</dd>\n",
       "\t<dt>new</dt>\n",
       "\t\t<dd>1272</dd>\n",
       "\t<dt>buy</dt>\n",
       "\t\t<dd>1243</dd>\n",
       "\t<dt>short</dt>\n",
       "\t\t<dd>1163</dd>\n",
       "\t<dt>today</dt>\n",
       "\t\t<dd>1158</dd>\n",
       "\t<dt>options</dt>\n",
       "\t\t<dd>1139</dd>\n",
       "\t<dt>million</dt>\n",
       "\t\t<dd>1138</dd>\n",
       "\t<dt>week</dt>\n",
       "\t\t<dd>1100</dd>\n",
       "\t<dt>register</dt>\n",
       "\t\t<dd>1074</dd>\n",
       "\t<dt>financial</dt>\n",
       "\t\t<dd>1041</dd>\n",
       "\t<dt>international</dt>\n",
       "\t\t<dd>1020</dd>\n",
       "\t<dt>corp</dt>\n",
       "\t\t<dd>1016</dd>\n",
       "</dl>\n"
      ],
      "text/latex": [
       "\\begin{description*}\n",
       "\\item[corporation] 3753\n",
       "\\item[analysts] 2123\n",
       "\\item[earnings] 2035\n",
       "\\item[price] 1903\n",
       "\\item[company] 1835\n",
       "\\item[group] 1664\n",
       "\\item[binance] 1561\n",
       "\\item[energy] 1452\n",
       "\\item[expected] 1292\n",
       "\\item[new] 1272\n",
       "\\item[buy] 1243\n",
       "\\item[short] 1163\n",
       "\\item[today] 1158\n",
       "\\item[options] 1139\n",
       "\\item[million] 1138\n",
       "\\item[week] 1100\n",
       "\\item[register] 1074\n",
       "\\item[financial] 1041\n",
       "\\item[international] 1020\n",
       "\\item[corp] 1016\n",
       "\\end{description*}\n"
      ],
      "text/markdown": [
       "corporation\n",
       ":   3753analysts\n",
       ":   2123earnings\n",
       ":   2035price\n",
       ":   1903company\n",
       ":   1835group\n",
       ":   1664binance\n",
       ":   1561energy\n",
       ":   1452expected\n",
       ":   1292new\n",
       ":   1272buy\n",
       ":   1243short\n",
       ":   1163today\n",
       ":   1158options\n",
       ":   1139million\n",
       ":   1138week\n",
       ":   1100register\n",
       ":   1074financial\n",
       ":   1041international\n",
       ":   1020corp\n",
       ":   1016\n",
       "\n"
      ],
      "text/plain": [
       "  corporation      analysts      earnings         price       company \n",
       "         3753          2123          2035          1903          1835 \n",
       "        group       binance        energy      expected           new \n",
       "         1664          1561          1452          1292          1272 \n",
       "          buy         short         today       options       million \n",
       "         1243          1163          1158          1139          1138 \n",
       "         week      register     financial international          corp \n",
       "         1100          1074          1041          1020          1016 "
      ]
     },
     "metadata": {},
     "output_type": "display_data"
    }
   ],
   "source": [
    "ftweets_dtm_freq_1 <- colSums(as.matrix(ftweets_dtm_1), na.rm = T)\n",
    "ftweets_dtm_freq_1 <- sort(ftweets_dtm_freq_1,decreasing = T)\n",
    "ftweets_dtm_freq_1[1:20]\n",
    "#barplot(inst2_dtm_freq_1[1:20])"
   ]
  },
  {
   "cell_type": "code",
   "execution_count": 53,
   "metadata": {},
   "outputs": [
    {
     "data": {
      "text/html": [
       "<dl class=dl-horizontal>\n",
       "\t<dt>register bonus</dt>\n",
       "\t\t<dd>957</dd>\n",
       "\t<dt>maxpain options</dt>\n",
       "\t\t<dd>613</dd>\n",
       "\t<dt>analysts see</dt>\n",
       "\t\t<dd>611</dd>\n",
       "\t<dt>per share</dt>\n",
       "\t\t<dd>567</dd>\n",
       "\t<dt>price target</dt>\n",
       "\t\t<dd>523</dd>\n",
       "\t<dt>earnings per</dt>\n",
       "\t\t<dd>512</dd>\n",
       "\t<dt>investment research</dt>\n",
       "\t\t<dd>511</dd>\n",
       "\t<dt>zacks investment</dt>\n",
       "\t\t<dd>511</dd>\n",
       "\t<dt>short interest</dt>\n",
       "\t\t<dd>461</dd>\n",
       "\t<dt>max pain</dt>\n",
       "\t\t<dd>411</dd>\n",
       "\t<dt>morgan stanley</dt>\n",
       "\t\t<dd>388</dd>\n",
       "\t<dt>capital management</dt>\n",
       "\t\t<dd>347</dd>\n",
       "\t<dt>short sale</dt>\n",
       "\t\t<dd>319</dd>\n",
       "\t<dt>maturity maxpain</dt>\n",
       "\t\t<dd>296</dd>\n",
       "\t<dt>pain maturity</dt>\n",
       "\t\t<dd>296</dd>\n",
       "\t<dt>head head</dt>\n",
       "\t\t<dd>293</dd>\n",
       "\t<dt>management llc</dt>\n",
       "\t\t<dd>282</dd>\n",
       "\t<dt>alerts app</dt>\n",
       "\t\t<dd>273</dd>\n",
       "\t<dt>news alerts</dt>\n",
       "\t\t<dd>273</dd>\n",
       "\t<dt>last week</dt>\n",
       "\t\t<dd>271</dd>\n",
       "</dl>\n"
      ],
      "text/latex": [
       "\\begin{description*}\n",
       "\\item[register bonus] 957\n",
       "\\item[maxpain options] 613\n",
       "\\item[analysts see] 611\n",
       "\\item[per share] 567\n",
       "\\item[price target] 523\n",
       "\\item[earnings per] 512\n",
       "\\item[investment research] 511\n",
       "\\item[zacks investment] 511\n",
       "\\item[short interest] 461\n",
       "\\item[max pain] 411\n",
       "\\item[morgan stanley] 388\n",
       "\\item[capital management] 347\n",
       "\\item[short sale] 319\n",
       "\\item[maturity maxpain] 296\n",
       "\\item[pain maturity] 296\n",
       "\\item[head head] 293\n",
       "\\item[management llc] 282\n",
       "\\item[alerts app] 273\n",
       "\\item[news alerts] 273\n",
       "\\item[last week] 271\n",
       "\\end{description*}\n"
      ],
      "text/markdown": [
       "register bonus\n",
       ":   957maxpain options\n",
       ":   613analysts see\n",
       ":   611per share\n",
       ":   567price target\n",
       ":   523earnings per\n",
       ":   512investment research\n",
       ":   511zacks investment\n",
       ":   511short interest\n",
       ":   461max pain\n",
       ":   411morgan stanley\n",
       ":   388capital management\n",
       ":   347short sale\n",
       ":   319maturity maxpain\n",
       ":   296pain maturity\n",
       ":   296head head\n",
       ":   293management llc\n",
       ":   282alerts app\n",
       ":   273news alerts\n",
       ":   273last week\n",
       ":   271\n",
       "\n"
      ],
      "text/plain": [
       "     register bonus     maxpain options        analysts see           per share \n",
       "                957                 613                 611                 567 \n",
       "       price target        earnings per investment research    zacks investment \n",
       "                523                 512                 511                 511 \n",
       "     short interest            max pain      morgan stanley  capital management \n",
       "                461                 411                 388                 347 \n",
       "         short sale    maturity maxpain       pain maturity           head head \n",
       "                319                 296                 296                 293 \n",
       "     management llc          alerts app         news alerts           last week \n",
       "                282                 273                 273                 271 "
      ]
     },
     "metadata": {},
     "output_type": "display_data"
    }
   ],
   "source": [
    "ftweets_dtm_freq_2 <- colSums(as.matrix(ftweets_dtm_2), na.rm = T)\n",
    "ftweets_dtm_freq_2 <- sort(ftweets_dtm_freq_2,decreasing = T)\n",
    "ftweets_dtm_freq_2[1:20]\n",
    "#barplot(inst2_dtm_freq_1[1:20])"
   ]
  },
  {
   "cell_type": "code",
   "execution_count": 54,
   "metadata": {},
   "outputs": [
    {
     "data": {
      "image/png": "[encoded data removed]",
      "text/plain": [
       "plot without title"
      ]
     },
     "metadata": {},
     "output_type": "display_data"
    },
    {
     "data": {
      "image/png": "[encoded data removed]",
      "text/plain": [
       "plot without title"
      ]
     },
     "metadata": {},
     "output_type": "display_data"
    }
   ],
   "source": [
    "colorlist = c(\"red\",\"blue\",\"green\",\"red\",\"pink\",\"orange\",\"grey\",\"black\",\"brown\",\"navy\",\"magenta\",\"purple\")\n",
    "wordcloud(names(ftweets_dtm_freq_1),ftweets_dtm_freq_1, random.order = F, random.color = T, colors = colorlist,scale=c(2,.25))\n",
    "wordcloud(names(ftweets_dtm_freq_2),ftweets_dtm_freq_2, random.order = F, random.color = T, colors = colorlist,scale=c(2,.25))"
   ]
  },
  {
   "cell_type": "code",
   "execution_count": 64,
   "metadata": {},
   "outputs": [
    {
     "data": {
      "text/html": [
       "<table>\n",
       "<caption>A data.frame: 6 × 1</caption>\n",
       "<thead>\n",
       "\t<tr><th scope=col>stockerbot url</th></tr>\n",
       "\t<tr><th scope=col>&lt;fct&gt;</th></tr>\n",
       "</thead>\n",
       "<tbody>\n",
       "\t<tr><td>https://twitter.com/i/web/status/1019696670777503745</td></tr>\n",
       "\t<tr><td>https://twitter.com/i/web/status/1019709091038547968</td></tr>\n",
       "\t<tr><td>https://buff.ly/2L3kmc4                             </td></tr>\n",
       "\t<tr><td>https://twitter.com/i/web/status/1019716662587740160</td></tr>\n",
       "\t<tr><td>http://on.forbes.com/6013DqDDU                      </td></tr>\n",
       "\t<tr><td>http://bit.ly/2NrYxje                               </td></tr>\n",
       "</tbody>\n",
       "</table>\n"
      ],
      "text/latex": [
       "A data.frame: 6 × 1\n",
       "\\begin{tabular}{r|l}\n",
       " stockerbot url\\\\\n",
       " <fct>\\\\\n",
       "\\hline\n",
       "\t https://twitter.com/i/web/status/1019696670777503745\\\\\n",
       "\t https://twitter.com/i/web/status/1019709091038547968\\\\\n",
       "\t https://buff.ly/2L3kmc4                             \\\\\n",
       "\t https://twitter.com/i/web/status/1019716662587740160\\\\\n",
       "\t http://on.forbes.com/6013DqDDU                      \\\\\n",
       "\t http://bit.ly/2NrYxje                               \\\\\n",
       "\\end{tabular}\n"
      ],
      "text/markdown": [
       "\n",
       "A data.frame: 6 × 1\n",
       "\n",
       "| stockerbot url &lt;fct&gt; |\n",
       "|---|\n",
       "| https://twitter.com/i/web/status/1019696670777503745 |\n",
       "| https://twitter.com/i/web/status/1019709091038547968 |\n",
       "| https://buff.ly/2L3kmc4                              |\n",
       "| https://twitter.com/i/web/status/1019716662587740160 |\n",
       "| http://on.forbes.com/6013DqDDU                       |\n",
       "| http://bit.ly/2NrYxje                                |\n",
       "\n"
      ],
      "text/plain": [
       "  stockerbot url                                      \n",
       "1 https://twitter.com/i/web/status/1019696670777503745\n",
       "2 https://twitter.com/i/web/status/1019709091038547968\n",
       "3 https://buff.ly/2L3kmc4                             \n",
       "4 https://twitter.com/i/web/status/1019716662587740160\n",
       "5 http://on.forbes.com/6013DqDDU                      \n",
       "6 http://bit.ly/2NrYxje                               "
      ]
     },
     "metadata": {},
     "output_type": "display_data"
    }
   ],
   "source": [
    "stockerbot_url <- as.data.frame((str_subset(unlist(rm_url(stockerbot$url,extract = TRUE)),\"://\")))\n",
    "names(stockerbot_url) <- c(\"stockerbot url\")\n",
    "head(stockerbot_url)"
   ]
  },
  {
   "cell_type": "code",
   "execution_count": 66,
   "metadata": {},
   "outputs": [
    {
     "data": {
      "text/html": [
       "<table>\n",
       "<caption>A data.frame: 10 × 1</caption>\n",
       "<thead>\n",
       "\t<tr><th scope=col>stockerbot.source</th></tr>\n",
       "\t<tr><th scope=col>&lt;fct&gt;</th></tr>\n",
       "</thead>\n",
       "<tbody>\n",
       "\t<tr><td>GoldmanSachs</td></tr>\n",
       "\t<tr><td>StockTwits  </td></tr>\n",
       "\t<tr><td>TheStreet   </td></tr>\n",
       "\t<tr><td>MarketWatch </td></tr>\n",
       "\t<tr><td>Forbes      </td></tr>\n",
       "\t<tr><td>jimcramer   </td></tr>\n",
       "\t<tr><td>ianbremmer  </td></tr>\n",
       "\t<tr><td>Reuters     </td></tr>\n",
       "\t<tr><td>TechCrunch  </td></tr>\n",
       "\t<tr><td>MarketWatch </td></tr>\n",
       "</tbody>\n",
       "</table>\n"
      ],
      "text/latex": [
       "A data.frame: 10 × 1\n",
       "\\begin{tabular}{r|l}\n",
       " stockerbot.source\\\\\n",
       " <fct>\\\\\n",
       "\\hline\n",
       "\t GoldmanSachs\\\\\n",
       "\t StockTwits  \\\\\n",
       "\t TheStreet   \\\\\n",
       "\t MarketWatch \\\\\n",
       "\t Forbes      \\\\\n",
       "\t jimcramer   \\\\\n",
       "\t ianbremmer  \\\\\n",
       "\t Reuters     \\\\\n",
       "\t TechCrunch  \\\\\n",
       "\t MarketWatch \\\\\n",
       "\\end{tabular}\n"
      ],
      "text/markdown": [
       "\n",
       "A data.frame: 10 × 1\n",
       "\n",
       "| stockerbot.source &lt;fct&gt; |\n",
       "|---|\n",
       "| GoldmanSachs |\n",
       "| StockTwits   |\n",
       "| TheStreet    |\n",
       "| MarketWatch  |\n",
       "| Forbes       |\n",
       "| jimcramer    |\n",
       "| ianbremmer   |\n",
       "| Reuters      |\n",
       "| TechCrunch   |\n",
       "| MarketWatch  |\n",
       "\n"
      ],
      "text/plain": [
       "   stockerbot.source\n",
       "1  GoldmanSachs     \n",
       "2  StockTwits       \n",
       "3  TheStreet        \n",
       "4  MarketWatch      \n",
       "5  Forbes           \n",
       "6  jimcramer        \n",
       "7  ianbremmer       \n",
       "8  Reuters          \n",
       "9  TechCrunch       \n",
       "10 MarketWatch      "
      ]
     },
     "metadata": {},
     "output_type": "display_data"
    }
   ],
   "source": [
    "head(data.frame(stockerbot$source),10)"
   ]
  },
  {
   "cell_type": "code",
   "execution_count": null,
   "metadata": {},
   "outputs": [],
   "source": []
  }
 ],
 "metadata": {
  "kernelspec": {
   "display_name": "R",
   "language": "R",
   "name": "ir"
  },
  "language_info": {
   "codemirror_mode": "r",
   "file_extension": ".r",
   "mimetype": "text/x-r-source",
   "name": "R",
   "pygments_lexer": "r",
   "version": "3.6.0"
  },
  "varInspector": {
   "cols": {
    "lenName": 16,
    "lenType": 16,
    "lenVar": 40
   },
   "kernels_config": {
    "python": {
     "delete_cmd_postfix": "",
     "delete_cmd_prefix": "del ",
     "library": "var_list.py",
     "varRefreshCmd": "print(var_dic_list())"
    },
    "r": {
     "delete_cmd_postfix": ") ",
     "delete_cmd_prefix": "rm(",
     "library": "var_list.r",
     "varRefreshCmd": "cat(var_dic_list()) "
    }
   },
   "types_to_exclude": [
    "module",
    "function",
    "builtin_function_or_method",
    "instance",
    "_Feature"
   ],
   "window_display": false
  }
 },
 "nbformat": 4,
 "nbformat_minor": 2
}
